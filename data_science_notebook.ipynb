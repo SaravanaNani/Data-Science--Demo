{
  "nbformat": 4,
  "nbformat_minor": 0,
  "metadata": {
    "colab": {
      "provenance": [],
      "toc_visible": true,
      "authorship_tag": "ABX9TyPKmnf70u21KNuZ5XyhAz7e",
      "include_colab_link": true
    },
    "kernelspec": {
      "name": "python3",
      "display_name": "Python 3"
    },
    "language_info": {
      "name": "python"
    }
  },
  "cells": [
    {
      "cell_type": "markdown",
      "metadata": {
        "id": "view-in-github",
        "colab_type": "text"
      },
      "source": [
        "<a href=\"https://colab.research.google.com/github/SaravanaNani/Data-Science--Demo/blob/main/data_science_notebook.ipynb\" target=\"_parent\"><img src=\"https://colab.research.google.com/assets/colab-badge.svg\" alt=\"Open In Colab\"/></a>"
      ]
    },
    {
      "cell_type": "markdown",
      "source": [
        "## Ingest"
      ],
      "metadata": {
        "id": "bgByzj34leiM"
      }
    },
    {
      "cell_type": "code",
      "source": [],
      "metadata": {
        "id": "h8y0L69slg9y"
      },
      "execution_count": null,
      "outputs": []
    },
    {
      "cell_type": "markdown",
      "source": [
        "## EDA"
      ],
      "metadata": {
        "id": "vOnXQmyOlkij"
      }
    },
    {
      "cell_type": "code",
      "source": [],
      "metadata": {
        "id": "ClX_h6TulnPM"
      },
      "execution_count": null,
      "outputs": []
    },
    {
      "cell_type": "markdown",
      "source": [
        "## Modeling"
      ],
      "metadata": {
        "id": "oCWkCnwSln0N"
      }
    },
    {
      "cell_type": "code",
      "source": [],
      "metadata": {
        "id": "VT_gT810mfmG"
      },
      "execution_count": null,
      "outputs": []
    },
    {
      "cell_type": "markdown",
      "source": [
        "### Classification Alogorithim A"
      ],
      "metadata": {
        "id": "XUS5BzYUmQIL"
      }
    },
    {
      "cell_type": "markdown",
      "source": [],
      "metadata": {
        "id": "IlkMu2KJmfK7"
      }
    },
    {
      "cell_type": "markdown",
      "source": [
        "### Classification Alogorithim B"
      ],
      "metadata": {
        "id": "ms5BX6pomgn3"
      }
    },
    {
      "cell_type": "code",
      "source": [],
      "metadata": {
        "id": "Ll2WVxlAlr-H"
      },
      "execution_count": null,
      "outputs": []
    },
    {
      "cell_type": "markdown",
      "source": [
        "## Conclusion"
      ],
      "metadata": {
        "id": "FUJ3XgTnlshW"
      }
    },
    {
      "cell_type": "code",
      "source": [],
      "metadata": {
        "id": "9H0XOtOFlufU"
      },
      "execution_count": null,
      "outputs": []
    }
  ]
}